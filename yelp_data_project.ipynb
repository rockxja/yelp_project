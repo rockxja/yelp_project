{
 "cells": [
  {
   "cell_type": "markdown",
   "metadata": {},
   "source": [
    "#Yelp review data exploration"
   ]
  },
  {
   "cell_type": "code",
   "execution_count": 1,
   "metadata": {
    "collapsed": true
   },
   "outputs": [],
   "source": [
    "import matplotlib.pyplot as plt"
   ]
  },
  {
   "cell_type": "code",
   "execution_count": 37,
   "metadata": {
    "collapsed": false
   },
   "outputs": [],
   "source": [
    "import matplotlib\n",
    "%matplotlib inline\n",
    "import numpy as np\n",
    "import pandas as pd\n",
    "import nltk"
   ]
  },
  {
   "cell_type": "code",
   "execution_count": 26,
   "metadata": {
    "collapsed": false
   },
   "outputs": [],
   "source": [
    "raw_data = pd.read_csv('ADSA_yelp_reviews_subset.csv', sep='\\t')"
   ]
  },
  {
   "cell_type": "code",
   "execution_count": 28,
   "metadata": {
    "collapsed": false
   },
   "outputs": [
    {
     "data": {
      "text/html": [
       "<div>\n",
       "<table border=\"1\" class=\"dataframe\">\n",
       "  <thead>\n",
       "    <tr style=\"text-align: right;\">\n",
       "      <th></th>\n",
       "      <th>business_id</th>\n",
       "      <th>date</th>\n",
       "      <th>review_id</th>\n",
       "      <th>stars</th>\n",
       "      <th>text</th>\n",
       "      <th>type</th>\n",
       "      <th>user_id</th>\n",
       "      <th>votes</th>\n",
       "    </tr>\n",
       "  </thead>\n",
       "  <tbody>\n",
       "    <tr>\n",
       "      <th>0</th>\n",
       "      <td>mAdtkJLHIVjbDnZlc5aQYg</td>\n",
       "      <td>2009-11-17</td>\n",
       "      <td>Vzx-nIUGByybEMrAiCeIXg</td>\n",
       "      <td>5</td>\n",
       "      <td>I arrived late-ish, tired from a grueling trip...</td>\n",
       "      <td>review</td>\n",
       "      <td>rTvFiQSg_cLHejrT1jA0UA</td>\n",
       "      <td>{'funny': 1, 'cool': 2, 'useful': 2}</td>\n",
       "    </tr>\n",
       "    <tr>\n",
       "      <th>1</th>\n",
       "      <td>mAdtkJLHIVjbDnZlc5aQYg</td>\n",
       "      <td>2010-04-30</td>\n",
       "      <td>rQxSeddCqCTlO9dJyPZocA</td>\n",
       "      <td>2</td>\n",
       "      <td>This hotel was ok, the Host -Quntin was great....</td>\n",
       "      <td>review</td>\n",
       "      <td>AzTPtN_WvmvRXtR_DIX_Ww</td>\n",
       "      <td>{'funny': 1, 'cool': 0, 'useful': 2}</td>\n",
       "    </tr>\n",
       "    <tr>\n",
       "      <th>2</th>\n",
       "      <td>mAdtkJLHIVjbDnZlc5aQYg</td>\n",
       "      <td>2010-08-03</td>\n",
       "      <td>EAQZjkrfYuAdKClSnKssCQ</td>\n",
       "      <td>3</td>\n",
       "      <td>Perfect airport hotel.  Decent rooms, starting...</td>\n",
       "      <td>review</td>\n",
       "      <td>TtufkDWfOWtGpm-vXnLSaw</td>\n",
       "      <td>{'funny': 1, 'cool': 0, 'useful': 1}</td>\n",
       "    </tr>\n",
       "    <tr>\n",
       "      <th>3</th>\n",
       "      <td>mAdtkJLHIVjbDnZlc5aQYg</td>\n",
       "      <td>2010-10-01</td>\n",
       "      <td>em4aEhO7iMjN82_Z76c9FQ</td>\n",
       "      <td>4</td>\n",
       "      <td>Nice hotel, clean rooms, OK food. I would visi...</td>\n",
       "      <td>review</td>\n",
       "      <td>E2yke_7HUG4-BXeE9kLWdA</td>\n",
       "      <td>{'funny': 0, 'cool': 0, 'useful': 0}</td>\n",
       "    </tr>\n",
       "    <tr>\n",
       "      <th>4</th>\n",
       "      <td>mAdtkJLHIVjbDnZlc5aQYg</td>\n",
       "      <td>2011-04-17</td>\n",
       "      <td>Ris5s6CYFBPXJzLoVwfx-g</td>\n",
       "      <td>2</td>\n",
       "      <td>Lobby, restaurant, bar and internet area all l...</td>\n",
       "      <td>review</td>\n",
       "      <td>8N481iGgsUYA1-TtESOntw</td>\n",
       "      <td>{'funny': 2, 'cool': 2, 'useful': 4}</td>\n",
       "    </tr>\n",
       "  </tbody>\n",
       "</table>\n",
       "</div>"
      ],
      "text/plain": [
       "              business_id        date               review_id  stars  \\\n",
       "0  mAdtkJLHIVjbDnZlc5aQYg  2009-11-17  Vzx-nIUGByybEMrAiCeIXg      5   \n",
       "1  mAdtkJLHIVjbDnZlc5aQYg  2010-04-30  rQxSeddCqCTlO9dJyPZocA      2   \n",
       "2  mAdtkJLHIVjbDnZlc5aQYg  2010-08-03  EAQZjkrfYuAdKClSnKssCQ      3   \n",
       "3  mAdtkJLHIVjbDnZlc5aQYg  2010-10-01  em4aEhO7iMjN82_Z76c9FQ      4   \n",
       "4  mAdtkJLHIVjbDnZlc5aQYg  2011-04-17  Ris5s6CYFBPXJzLoVwfx-g      2   \n",
       "\n",
       "                                                text    type  \\\n",
       "0  I arrived late-ish, tired from a grueling trip...  review   \n",
       "1  This hotel was ok, the Host -Quntin was great....  review   \n",
       "2  Perfect airport hotel.  Decent rooms, starting...  review   \n",
       "3  Nice hotel, clean rooms, OK food. I would visi...  review   \n",
       "4  Lobby, restaurant, bar and internet area all l...  review   \n",
       "\n",
       "                  user_id                                 votes  \n",
       "0  rTvFiQSg_cLHejrT1jA0UA  {'funny': 1, 'cool': 2, 'useful': 2}  \n",
       "1  AzTPtN_WvmvRXtR_DIX_Ww  {'funny': 1, 'cool': 0, 'useful': 2}  \n",
       "2  TtufkDWfOWtGpm-vXnLSaw  {'funny': 1, 'cool': 0, 'useful': 1}  \n",
       "3  E2yke_7HUG4-BXeE9kLWdA  {'funny': 0, 'cool': 0, 'useful': 0}  \n",
       "4  8N481iGgsUYA1-TtESOntw  {'funny': 2, 'cool': 2, 'useful': 4}  "
      ]
     },
     "execution_count": 28,
     "metadata": {},
     "output_type": "execute_result"
    }
   ],
   "source": [
    "raw_data.head(5)"
   ]
  },
  {
   "cell_type": "code",
   "execution_count": 38,
   "metadata": {
    "collapsed": false
   },
   "outputs": [
    {
     "name": "stdout",
     "output_type": "stream",
     "text": [
      "<class 'pandas.core.frame.DataFrame'>\n",
      "Int64Index: 856144 entries, 0 to 856143\n",
      "Data columns (total 8 columns):\n",
      "business_id    856144 non-null object\n",
      "date           856144 non-null object\n",
      "review_id      856144 non-null object\n",
      "stars          856143 non-null float64\n",
      "text           856142 non-null object\n",
      "type           856142 non-null object\n",
      "user_id        856142 non-null object\n",
      "votes          856142 non-null object\n",
      "dtypes: float64(1), object(7)\n",
      "memory usage: 58.8+ MB\n"
     ]
    }
   ],
   "source": [
    "raw_data.info()\n"
   ]
  },
  {
   "cell_type": "code",
   "execution_count": 39,
   "metadata": {
    "collapsed": false
   },
   "outputs": [
    {
     "name": "stderr",
     "output_type": "stream",
     "text": [
      "/Users/wathid/anaconda/lib/python2.7/site-packages/pandas/io/parsers.py:1170: DtypeWarning: Columns (1,14,21,30,49,52,62,64,66,70,84,89,92) have mixed types. Specify dtype option on import or set low_memory=False.\n",
      "  data = self._reader.read(nrows)\n"
     ]
    }
   ],
   "source": [
    "business_table = pd.read_csv('ADSA_yelp_business_subset.csv', sep='\\t')"
   ]
  },
  {
   "cell_type": "code",
   "execution_count": 90,
   "metadata": {
    "collapsed": false
   },
   "outputs": [],
   "source": [
    "bus_id_mad = business_table['business_id'][business_table['city']=='Madison']\n",
    "bus_id_hen = business_table['business_id'][business_table['city']=='Henderson']"
   ]
  },
  {
   "cell_type": "code",
   "execution_count": 91,
   "metadata": {
    "collapsed": false
   },
   "outputs": [
    {
     "data": {
      "text/plain": [
       "(1758,)"
      ]
     },
     "execution_count": 91,
     "metadata": {},
     "output_type": "execute_result"
    }
   ],
   "source": [
    "bus_id_mad.shape"
   ]
  },
  {
   "cell_type": "code",
   "execution_count": 92,
   "metadata": {
    "collapsed": false
   },
   "outputs": [
    {
     "data": {
      "text/plain": [
       "(2130,)"
      ]
     },
     "execution_count": 92,
     "metadata": {},
     "output_type": "execute_result"
    }
   ],
   "source": [
    "bus_id_hen.shape"
   ]
  },
  {
   "cell_type": "code",
   "execution_count": 88,
   "metadata": {
    "collapsed": false
   },
   "outputs": [
    {
     "data": {
      "text/plain": [
       "<matplotlib.axes._subplots.AxesSubplot at 0x10bb01150>"
      ]
     },
     "execution_count": 88,
     "metadata": {},
     "output_type": "execute_result"
    },
    {
     "data": {
      "image/png": "[encoded data removed]",
      "text/plain": [
       "<matplotlib.figure.Figure at 0x10b9be6d0>"
      ]
     },
     "metadata": {},
     "output_type": "display_data"
    }
   ],
   "source": [
    "business_table['city'].value_counts().plot(kind='bar')\n"
   ]
  },
  {
   "cell_type": "code",
   "execution_count": 89,
   "metadata": {
    "collapsed": false
   },
   "outputs": [
    {
     "data": {
      "text/plain": [
       "Las Vegas    13600\n",
       "Charlotte     4224\n",
       "Tempe         2258\n",
       "Henderson     2130\n",
       "Madison       1758\n",
       "dtype: int64"
      ]
     },
     "execution_count": 89,
     "metadata": {},
     "output_type": "execute_result"
    }
   ],
   "source": [
    "business_table['city'].value_counts()"
   ]
  },
  {
   "cell_type": "code",
   "execution_count": 142,
   "metadata": {
    "collapsed": false
   },
   "outputs": [],
   "source": [
    "#logic_id_mad = np.array([bus_id in bus_id_mad.values for bus_id in raw_data['business_id']])\n",
    "#review_mad = raw_data[logic_id_mad]\n",
    "reviews = pd.merge(raw_data, business_table, on='business_id')\n",
    "review_mad = reviews[reviews['city']=='Madison']\n",
    "review_hen = reviews[reviews['city']=='Henderson']\n",
    "review_tem = reviews[reviews['city']=='Tempe']\n"
   ]
  },
  {
   "cell_type": "code",
   "execution_count": 144,
   "metadata": {
    "collapsed": false
   },
   "outputs": [
    {
     "data": {
      "text/plain": [
       "(86952, 112)"
      ]
     },
     "execution_count": 144,
     "metadata": {},
     "output_type": "execute_result"
    }
   ],
   "source": [
    "review_cha = reviews[reviews['city']=='Charlotte']\n",
    "\n",
    "# logic_id_hen = np.array([bus_id in bus_id_hen.values for bus_id in raw_data['business_id']])\n",
    "# review_hen = raw_data[logic_id_hen]\n",
    "review_cha.shape"
   ]
  },
  {
   "cell_type": "code",
   "execution_count": 126,
   "metadata": {
    "collapsed": false
   },
   "outputs": [
    {
     "name": "stdout",
     "output_type": "stream",
     "text": [
      "yes\n",
      "yes\n"
     ]
    }
   ],
   "source": [
    "for thing in raw_data['business_id']:\n",
    "    if thing == '1IxCNVVW9aKbK3BfQpI7eg':\n",
    "        print 'yes'\n"
   ]
  },
  {
   "cell_type": "code",
   "execution_count": 151,
   "metadata": {
    "collapsed": false
   },
   "outputs": [
    {
     "name": "stdout",
     "output_type": "stream",
     "text": [
      "(37071, 112)\n",
      "(86952, 112)\n",
      "(49827, 112)\n",
      "(64978, 112)\n"
     ]
    }
   ],
   "source": [
    "print review_mad.shape\n",
    "print review_cha.shape\n",
    "print review_hen.shape\n",
    "print review_tem.shape"
   ]
  },
  {
   "cell_type": "code",
   "execution_count": 180,
   "metadata": {
    "collapsed": true
   },
   "outputs": [],
   "source": [
    "text_review_mad= review_mad['text']\n",
    "text_review_cha= review_cha['text']\n",
    "text_review_hen= review_hen['text']\n",
    "text_review_tem= review_tem['text']"
   ]
  },
  {
   "cell_type": "code",
   "execution_count": 205,
   "metadata": {
    "collapsed": false
   },
   "outputs": [],
   "source": [
    "#nltk.download()\n",
    "#from nltk.book import *\n",
    "#counting smiley face in a\n",
    "from scipy.stats import sem as error_bar\n",
    "def smiley_counter(text):\n",
    "    return text.count(':)')+text.count(':-)')+text.count(':D')\n",
    "#frowny counter\n",
    "def frowny_counter(text):\n",
    "    return text.count(':(')+text.count(':-(')\n",
    "\n",
    "def summary_stat(array):\n",
    "    return array.mean(), error_bar(array)\n",
    "#rates smiley\n",
    "rate_smile_mad, smile_mad_error = summary_stat(np.array([smiley_counter(text) for text in text_review_mad]))\n",
    "rate_smile_hen, smile_hen_error = summary_stat(np.array([smiley_counter(text) for text in text_review_hen]))\n",
    "rate_smile_cha, smile_cha_error = summary_stat(np.array([smiley_counter(text) for text in text_review_cha]))\n",
    "rate_smile_tem, smile_tem_error = summary_stat(np.array([smiley_counter(text) for text in text_review_tem]))\n",
    "#rate frowny\n",
    "rate_frowny_mad, frowny_mad_error = summary_stat(np.array([frowny_counter(text) for text in text_review_mad]))\n",
    "rate_frowny_hen, frowny_hen_error = summary_stat(np.array([frowny_counter(text) for text in text_review_hen]))\n",
    "rate_frowny_cha, frowny_cha_error = summary_stat(np.array([frowny_counter(text) for text in text_review_cha]))\n",
    "rate_frowny_tem, frowny_tem_error = summary_stat(np.array([frowny_counter(text) for text in text_review_tem]))\n",
    "\n"
   ]
  },
  {
   "cell_type": "code",
   "execution_count": 206,
   "metadata": {
    "collapsed": false
   },
   "outputs": [],
   "source": [
    "city_list = [1,2,3,4]\n",
    "rate_smiley_list = np.array([rate_smile_mad, rate_smile_hen, rate_smile_cha, rate_smile_tem])\n",
    "error_smiley_list = np.array([smile_mad_error, smile_hen_error, smile_cha_error, smile_tem_error])\n",
    "rate_frowny_list = np.array([rate_frowny_mad, rate_frowny_hen, rate_frowny_cha, rate_frowny_tem])\n",
    "error_frowny_list = np.array([frowny_mad_error, frowny_hen_error, frowny_cha_error, frowny_tem_error])\n",
    "rate_ratio = rate_smiley_list/(rate_smiley_list+rate_frowny_list)\n",
    "error_ratio = np.sqrt(error_smiley_list**2+(error_smiley_list+error_frowny_list)**2)\n",
    "#rate_ratio = [rate_smiley_list[i]/float(rate_smiley_list[i] + rate_frowny_list[i]) for i in range(len(rate_smiley_list))]"
   ]
  },
  {
   "cell_type": "code",
   "execution_count": 208,
   "metadata": {
    "collapsed": false,
    "scrolled": true
   },
   "outputs": [
    {
     "data": {
      "text/plain": [
       "([<matplotlib.axis.XTick at 0x15a3c6050>,\n",
       "  <matplotlib.axis.XTick at 0x10b985650>,\n",
       "  <matplotlib.axis.XTick at 0x10bab81d0>,\n",
       "  <matplotlib.axis.XTick at 0x15a3a5210>],\n",
       " <a list of 4 Text xticklabel objects>)"
      ]
     },
     "execution_count": 208,
     "metadata": {},
     "output_type": "execute_result"
    },
    {
     "data": {
      "image/png": "[encoded data removed]",
      "text/plain": [
       "<matplotlib.figure.Figure at 0x15bb0d650>"
      ]
     },
     "metadata": {},
     "output_type": "display_data"
    }
   ],
   "source": [
    "#Comparing happiness \n",
    "import pylab\n",
    "LABELS = ['Madison', 'Henderson', 'Charlotte', 'Tempe']\n",
    "\n",
    "pylab.bar(city_list, rate_smiley_list, align='center', yerr=error_smiley_list, color='y')\n",
    "pylab.xticks(city_list, LABELS)\n"
   ]
  },
  {
   "cell_type": "code",
   "execution_count": 209,
   "metadata": {
    "collapsed": false
   },
   "outputs": [
    {
     "data": {
      "text/plain": [
       "([<matplotlib.axis.XTick at 0x161395b90>,\n",
       "  <matplotlib.axis.XTick at 0x161452990>,\n",
       "  <matplotlib.axis.XTick at 0x15a43c790>,\n",
       "  <matplotlib.axis.XTick at 0x15a3acc10>],\n",
       " <a list of 4 Text xticklabel objects>)"
      ]
     },
     "execution_count": 209,
     "metadata": {},
     "output_type": "execute_result"
    },
    {
     "data": {
      "image/png": "[encoded data removed]",
      "text/plain": [
       "<matplotlib.figure.Figure at 0x1617c8f50>"
      ]
     },
     "metadata": {},
     "output_type": "display_data"
    }
   ],
   "source": [
    "pylab.bar(city_list, rate_frowny_list, align='center', yerr=error_frowny_list, color='y')\n",
    "pylab.xticks(city_list, LABELS)\n"
   ]
  },
  {
   "cell_type": "code",
   "execution_count": 210,
   "metadata": {
    "collapsed": false
   },
   "outputs": [
    {
     "data": {
      "text/plain": [
       "([<matplotlib.axis.XTick at 0x10b8b20d0>,\n",
       "  <matplotlib.axis.XTick at 0x1618a9090>,\n",
       "  <matplotlib.axis.XTick at 0x14981ed90>,\n",
       "  <matplotlib.axis.XTick at 0x1496ba210>],\n",
       " <a list of 4 Text xticklabel objects>)"
      ]
     },
     "execution_count": 210,
     "metadata": {},
     "output_type": "execute_result"
    },
    {
     "data": {
      "image/png": "[encoded data removed]",
      "text/plain": [
       "<matplotlib.figure.Figure at 0x15a44c610>"
      ]
     },
     "metadata": {},
     "output_type": "display_data"
    }
   ],
   "source": [
    "pylab.bar(city_list, rate_ratio, align='center', yerr=error_ratio, color='y')\n",
    "pylab.xticks(city_list, LABELS)\n"
   ]
  },
  {
   "cell_type": "code",
   "execution_count": null,
   "metadata": {
    "collapsed": true
   },
   "outputs": [],
   "source": []
  }
 ],
 "metadata": {
  "kernelspec": {
   "display_name": "Python 2",
   "language": "python",
   "name": "python2"
  },
  "language_info": {
   "codemirror_mode": {
    "name": "ipython",
    "version": 2
   },
   "file_extension": ".py",
   "mimetype": "text/x-python",
   "name": "python",
   "nbconvert_exporter": "python",
   "pygments_lexer": "ipython2",
   "version": "2.7.10"
  }
 },
 "nbformat": 4,
 "nbformat_minor": 0
}
