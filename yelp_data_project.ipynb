{
 "cells": [
  {
   "cell_type": "markdown",
   "metadata": {},
   "source": [
    "# Exploring sentiment in Yelp\n",
    "\n",
    "##Goal\n",
    "Compare the positivity of Yelp reviews between cities in the dataset. Where are reviewers happiest? \n",
    "\n",
    "This has various applications. For example, maybe a national chain is doing coaching of its employees. If they get ratings in the store (not through Yelp), they can normalize the ratings depending on the Yelp ratings per city. In other words, this could account for city-to-city differences. Another application may be user testing. If a company wants to test out a new food or service, they can find cities where people might be more easily pleased or not.\n",
    "\n",
    "##Target users\n",
    "Students might be intimidated by Natural Language Processing (NLP). They want to learn for class or for job interviews where they may be asked for questions like in the sample applications above.\n",
    "\n",
    "##Requirements\n",
    "* Touches on NLP\n",
    "* Does not use jargon\n",
    "* Quick and easy to look at (free and of a length that is bite-sized. Khan Academy is 3-8 minutes so use that time frame if video. Otherwise, text file)\n",
    "* Use Yelp dataset (easily available)\n",
    "* Able to be run locally (fits into memory of standard laptop and does not require AWS)\n",
    "\n",
    "##Possible approaches\n",
    "* Compare :) versus :( in reviews\n",
    "- rate of :) per post, which is defined as sum(:) )/number_posts\n",
    "* Use Yelp positivitity library\n",
    "* Use other NLP sentiment analysis library\n",
    "* Build own sentiment analysis library\n",
    "\n",
    "##Future directions\n",
    "To see if check-ins are correlated to the positivity\n",
    "\n",
    "##Dataset\n",
    "We used a subset of the 2016 Yelp data challenge dataset. For more information, please see https://www.yelp.com/dataset_challenge. We used a subset provided by the University of Illinois Data Science club.\n",
    "\n",
    "We considered two datasets: reviews and businesses. Reviews provided the text of the reviews where the business table provided the city names. We found the cities of the reviews by joining on the business id. \n",
    "\n",
    "The dataset subset we used had 5 cities and we excluded Las Vegas, because it had significantly more businesses than the other four cities (Tempe, AZ; Henderson, NV; Charlotte, NC; and Madison, WI), and may have different behavior due to the high number of tourists.\n",
    "\n",
    "##Findings\n",
    "We found that Henderson and Tempe had slightly higher happiness, as measured by the proportion of smiley faces of all the smiley/frowny emoticons. \n",
    "\n",
    "This trend was consistent with results from an external API (http://text-processing.com/api/sentiment/) that provides sentiment scores based on a Naive Bayes model trained on movie reviews.    \n",
    "\n",
    "In contrast, the stars rating showed no statistically significant differences between cities. This suggests that while comparing stars likely shows no insights on city-to-city differences, further sentiment analysis could lead to interesting results.\n"
   ]
  },
  {
   "cell_type": "markdown",
   "metadata": {},
   "source": [
    "#Yelp review data exploration"
   ]
  },
  {
   "cell_type": "code",
   "execution_count": 1,
   "metadata": {
    "collapsed": true
   },
   "outputs": [],
   "source": [
    "import matplotlib.pyplot as plt"
   ]
  },
  {
   "cell_type": "code",
   "execution_count": 37,
   "metadata": {
    "collapsed": false
   },
   "outputs": [],
   "source": [
    "import matplotlib\n",
    "%matplotlib inline\n",
    "import numpy as np\n",
    "import pandas as pd\n",
    "import nltk"
   ]
  },
  {
   "cell_type": "code",
   "execution_count": 26,
   "metadata": {
    "collapsed": false
   },
   "outputs": [],
   "source": [
    "raw_data = pd.read_csv('ADSA_yelp_reviews_subset.csv', sep='\\t')"
   ]
  },
  {
   "cell_type": "code",
   "execution_count": 28,
   "metadata": {
    "collapsed": false
   },
   "outputs": [
    {
     "data": {
      "text/html": [
       "<div>\n",
       "<table border=\"1\" class=\"dataframe\">\n",
       "  <thead>\n",
       "    <tr style=\"text-align: right;\">\n",
       "      <th></th>\n",
       "      <th>business_id</th>\n",
       "      <th>date</th>\n",
       "      <th>review_id</th>\n",
       "      <th>stars</th>\n",
       "      <th>text</th>\n",
       "      <th>type</th>\n",
       "      <th>user_id</th>\n",
       "      <th>votes</th>\n",
       "    </tr>\n",
       "  </thead>\n",
       "  <tbody>\n",
       "    <tr>\n",
       "      <th>0</th>\n",
       "      <td>mAdtkJLHIVjbDnZlc5aQYg</td>\n",
       "      <td>2009-11-17</td>\n",
       "      <td>Vzx-nIUGByybEMrAiCeIXg</td>\n",
       "      <td>5</td>\n",
       "      <td>I arrived late-ish, tired from a grueling trip...</td>\n",
       "      <td>review</td>\n",
       "      <td>rTvFiQSg_cLHejrT1jA0UA</td>\n",
       "      <td>{'funny': 1, 'cool': 2, 'useful': 2}</td>\n",
       "    </tr>\n",
       "    <tr>\n",
       "      <th>1</th>\n",
       "      <td>mAdtkJLHIVjbDnZlc5aQYg</td>\n",
       "      <td>2010-04-30</td>\n",
       "      <td>rQxSeddCqCTlO9dJyPZocA</td>\n",
       "      <td>2</td>\n",
       "      <td>This hotel was ok, the Host -Quntin was great....</td>\n",
       "      <td>review</td>\n",
       "      <td>AzTPtN_WvmvRXtR_DIX_Ww</td>\n",
       "      <td>{'funny': 1, 'cool': 0, 'useful': 2}</td>\n",
       "    </tr>\n",
       "    <tr>\n",
       "      <th>2</th>\n",
       "      <td>mAdtkJLHIVjbDnZlc5aQYg</td>\n",
       "      <td>2010-08-03</td>\n",
       "      <td>EAQZjkrfYuAdKClSnKssCQ</td>\n",
       "      <td>3</td>\n",
       "      <td>Perfect airport hotel.  Decent rooms, starting...</td>\n",
       "      <td>review</td>\n",
       "      <td>TtufkDWfOWtGpm-vXnLSaw</td>\n",
       "      <td>{'funny': 1, 'cool': 0, 'useful': 1}</td>\n",
       "    </tr>\n",
       "    <tr>\n",
       "      <th>3</th>\n",
       "      <td>mAdtkJLHIVjbDnZlc5aQYg</td>\n",
       "      <td>2010-10-01</td>\n",
       "      <td>em4aEhO7iMjN82_Z76c9FQ</td>\n",
       "      <td>4</td>\n",
       "      <td>Nice hotel, clean rooms, OK food. I would visi...</td>\n",
       "      <td>review</td>\n",
       "      <td>E2yke_7HUG4-BXeE9kLWdA</td>\n",
       "      <td>{'funny': 0, 'cool': 0, 'useful': 0}</td>\n",
       "    </tr>\n",
       "    <tr>\n",
       "      <th>4</th>\n",
       "      <td>mAdtkJLHIVjbDnZlc5aQYg</td>\n",
       "      <td>2011-04-17</td>\n",
       "      <td>Ris5s6CYFBPXJzLoVwfx-g</td>\n",
       "      <td>2</td>\n",
       "      <td>Lobby, restaurant, bar and internet area all l...</td>\n",
       "      <td>review</td>\n",
       "      <td>8N481iGgsUYA1-TtESOntw</td>\n",
       "      <td>{'funny': 2, 'cool': 2, 'useful': 4}</td>\n",
       "    </tr>\n",
       "  </tbody>\n",
       "</table>\n",
       "</div>"
      ],
      "text/plain": [
       "              business_id        date               review_id  stars  \\\n",
       "0  mAdtkJLHIVjbDnZlc5aQYg  2009-11-17  Vzx-nIUGByybEMrAiCeIXg      5   \n",
       "1  mAdtkJLHIVjbDnZlc5aQYg  2010-04-30  rQxSeddCqCTlO9dJyPZocA      2   \n",
       "2  mAdtkJLHIVjbDnZlc5aQYg  2010-08-03  EAQZjkrfYuAdKClSnKssCQ      3   \n",
       "3  mAdtkJLHIVjbDnZlc5aQYg  2010-10-01  em4aEhO7iMjN82_Z76c9FQ      4   \n",
       "4  mAdtkJLHIVjbDnZlc5aQYg  2011-04-17  Ris5s6CYFBPXJzLoVwfx-g      2   \n",
       "\n",
       "                                                text    type  \\\n",
       "0  I arrived late-ish, tired from a grueling trip...  review   \n",
       "1  This hotel was ok, the Host -Quntin was great....  review   \n",
       "2  Perfect airport hotel.  Decent rooms, starting...  review   \n",
       "3  Nice hotel, clean rooms, OK food. I would visi...  review   \n",
       "4  Lobby, restaurant, bar and internet area all l...  review   \n",
       "\n",
       "                  user_id                                 votes  \n",
       "0  rTvFiQSg_cLHejrT1jA0UA  {'funny': 1, 'cool': 2, 'useful': 2}  \n",
       "1  AzTPtN_WvmvRXtR_DIX_Ww  {'funny': 1, 'cool': 0, 'useful': 2}  \n",
       "2  TtufkDWfOWtGpm-vXnLSaw  {'funny': 1, 'cool': 0, 'useful': 1}  \n",
       "3  E2yke_7HUG4-BXeE9kLWdA  {'funny': 0, 'cool': 0, 'useful': 0}  \n",
       "4  8N481iGgsUYA1-TtESOntw  {'funny': 2, 'cool': 2, 'useful': 4}  "
      ]
     },
     "execution_count": 28,
     "metadata": {},
     "output_type": "execute_result"
    }
   ],
   "source": [
    "raw_data.head(5)"
   ]
  },
  {
   "cell_type": "code",
   "execution_count": 38,
   "metadata": {
    "collapsed": false
   },
   "outputs": [
    {
     "name": "stdout",
     "output_type": "stream",
     "text": [
      "<class 'pandas.core.frame.DataFrame'>\n",
      "Int64Index: 856144 entries, 0 to 856143\n",
      "Data columns (total 8 columns):\n",
      "business_id    856144 non-null object\n",
      "date           856144 non-null object\n",
      "review_id      856144 non-null object\n",
      "stars          856143 non-null float64\n",
      "text           856142 non-null object\n",
      "type           856142 non-null object\n",
      "user_id        856142 non-null object\n",
      "votes          856142 non-null object\n",
      "dtypes: float64(1), object(7)\n",
      "memory usage: 58.8+ MB\n"
     ]
    }
   ],
   "source": [
    "raw_data.info()\n"
   ]
  },
  {
   "cell_type": "code",
   "execution_count": 39,
   "metadata": {
    "collapsed": false
   },
   "outputs": [
    {
     "name": "stderr",
     "output_type": "stream",
     "text": [
      "/Users/wathid/anaconda/lib/python2.7/site-packages/pandas/io/parsers.py:1170: DtypeWarning: Columns (1,14,21,30,49,52,62,64,66,70,84,89,92) have mixed types. Specify dtype option on import or set low_memory=False.\n",
      "  data = self._reader.read(nrows)\n"
     ]
    }
   ],
   "source": [
    "business_table = pd.read_csv('ADSA_yelp_business_subset.csv', sep='\\t')"
   ]
  },
  {
   "cell_type": "code",
   "execution_count": 90,
   "metadata": {
    "collapsed": false
   },
   "outputs": [],
   "source": [
    "bus_id_mad = business_table['business_id'][business_table['city']=='Madison']\n",
    "bus_id_hen = business_table['business_id'][business_table['city']=='Henderson']"
   ]
  },
  {
   "cell_type": "code",
   "execution_count": 91,
   "metadata": {
    "collapsed": false
   },
   "outputs": [
    {
     "data": {
      "text/plain": [
       "(1758,)"
      ]
     },
     "execution_count": 91,
     "metadata": {},
     "output_type": "execute_result"
    }
   ],
   "source": [
    "bus_id_mad.shape"
   ]
  },
  {
   "cell_type": "code",
   "execution_count": 92,
   "metadata": {
    "collapsed": false
   },
   "outputs": [
    {
     "data": {
      "text/plain": [
       "(2130,)"
      ]
     },
     "execution_count": 92,
     "metadata": {},
     "output_type": "execute_result"
    }
   ],
   "source": [
    "bus_id_hen.shape"
   ]
  },
  {
   "cell_type": "code",
   "execution_count": 88,
   "metadata": {
    "collapsed": false
   },
   "outputs": [
    {
     "data": {
      "text/plain": [
       "<matplotlib.axes._subplots.AxesSubplot at 0x10bb01150>"
      ]
     },
     "execution_count": 88,
     "metadata": {},
     "output_type": "execute_result"
    },
    {
     "data": {
      "image/png": "[encoded data removed]",
      "text/plain": [
       "<matplotlib.figure.Figure at 0x10b9be6d0>"
      ]
     },
     "metadata": {},
     "output_type": "display_data"
    }
   ],
   "source": [
    "business_table['city'].value_counts().plot(kind='bar')\n"
   ]
  },
  {
   "cell_type": "code",
   "execution_count": 89,
   "metadata": {
    "collapsed": false
   },
   "outputs": [
    {
     "data": {
      "text/plain": [
       "Las Vegas    13600\n",
       "Charlotte     4224\n",
       "Tempe         2258\n",
       "Henderson     2130\n",
       "Madison       1758\n",
       "dtype: int64"
      ]
     },
     "execution_count": 89,
     "metadata": {},
     "output_type": "execute_result"
    }
   ],
   "source": [
    "business_table['city'].value_counts()"
   ]
  },
  {
   "cell_type": "code",
   "execution_count": 142,
   "metadata": {
    "collapsed": false
   },
   "outputs": [],
   "source": [
    "#logic_id_mad = np.array([bus_id in bus_id_mad.values for bus_id in raw_data['business_id']])\n",
    "#review_mad = raw_data[logic_id_mad]\n",
    "reviews = pd.merge(raw_data, business_table, on='business_id')\n",
    "review_mad = reviews[reviews['city']=='Madison']\n",
    "review_hen = reviews[reviews['city']=='Henderson']\n",
    "review_tem = reviews[reviews['city']=='Tempe']\n"
   ]
  },
  {
   "cell_type": "code",
   "execution_count": 144,
   "metadata": {
    "collapsed": false
   },
   "outputs": [
    {
     "data": {
      "text/plain": [
       "(86952, 112)"
      ]
     },
     "execution_count": 144,
     "metadata": {},
     "output_type": "execute_result"
    }
   ],
   "source": [
    "review_cha = reviews[reviews['city']=='Charlotte']\n",
    "\n",
    "# logic_id_hen = np.array([bus_id in bus_id_hen.values for bus_id in raw_data['business_id']])\n",
    "# review_hen = raw_data[logic_id_hen]\n",
    "review_cha.shape"
   ]
  },
  {
   "cell_type": "code",
   "execution_count": 126,
   "metadata": {
    "collapsed": false
   },
   "outputs": [
    {
     "name": "stdout",
     "output_type": "stream",
     "text": [
      "yes\n",
      "yes\n"
     ]
    }
   ],
   "source": [
    "for thing in raw_data['business_id']:\n",
    "    if thing == '1IxCNVVW9aKbK3BfQpI7eg':\n",
    "        print 'yes'\n"
   ]
  },
  {
   "cell_type": "code",
   "execution_count": 151,
   "metadata": {
    "collapsed": false
   },
   "outputs": [
    {
     "name": "stdout",
     "output_type": "stream",
     "text": [
      "(37071, 112)\n",
      "(86952, 112)\n",
      "(49827, 112)\n",
      "(64978, 112)\n"
     ]
    }
   ],
   "source": [
    "print review_mad.shape\n",
    "print review_cha.shape\n",
    "print review_hen.shape\n",
    "print review_tem.shape"
   ]
  },
  {
   "cell_type": "code",
   "execution_count": 180,
   "metadata": {
    "collapsed": true
   },
   "outputs": [],
   "source": [
    "text_review_mad= review_mad['text']\n",
    "text_review_cha= review_cha['text']\n",
    "text_review_hen= review_hen['text']\n",
    "text_review_tem= review_tem['text']"
   ]
  },
  {
   "cell_type": "code",
   "execution_count": 205,
   "metadata": {
    "collapsed": false
   },
   "outputs": [],
   "source": [
    "#nltk.download()\n",
    "#from nltk.book import *\n",
    "#counting smiley face in a\n",
    "from scipy.stats import sem as error_bar\n",
    "def smiley_counter(text):\n",
    "    return text.count(':)')+text.count(':-)')+text.count(':D')\n",
    "#frowny counter\n",
    "def frowny_counter(text):\n",
    "    return text.count(':(')+text.count(':-(')\n",
    "\n",
    "def summary_stat(array):\n",
    "    return array.mean(), error_bar(array)\n",
    "#rates smiley\n",
    "rate_smile_mad, smile_mad_error = summary_stat(np.array([smiley_counter(text) for text in text_review_mad]))\n",
    "rate_smile_hen, smile_hen_error = summary_stat(np.array([smiley_counter(text) for text in text_review_hen]))\n",
    "rate_smile_cha, smile_cha_error = summary_stat(np.array([smiley_counter(text) for text in text_review_cha]))\n",
    "rate_smile_tem, smile_tem_error = summary_stat(np.array([smiley_counter(text) for text in text_review_tem]))\n",
    "#rate frowny\n",
    "rate_frowny_mad, frowny_mad_error = summary_stat(np.array([frowny_counter(text) for text in text_review_mad]))\n",
    "rate_frowny_hen, frowny_hen_error = summary_stat(np.array([frowny_counter(text) for text in text_review_hen]))\n",
    "rate_frowny_cha, frowny_cha_error = summary_stat(np.array([frowny_counter(text) for text in text_review_cha]))\n",
    "rate_frowny_tem, frowny_tem_error = summary_stat(np.array([frowny_counter(text) for text in text_review_tem]))\n",
    "\n"
   ]
  },
  {
   "cell_type": "code",
   "execution_count": 206,
   "metadata": {
    "collapsed": false
   },
   "outputs": [],
   "source": [
    "city_list = [1,2,3,4]\n",
    "rate_smiley_list = np.array([rate_smile_mad, rate_smile_hen, rate_smile_cha, rate_smile_tem])\n",
    "error_smiley_list = np.array([smile_mad_error, smile_hen_error, smile_cha_error, smile_tem_error])\n",
    "rate_frowny_list = np.array([rate_frowny_mad, rate_frowny_hen, rate_frowny_cha, rate_frowny_tem])\n",
    "error_frowny_list = np.array([frowny_mad_error, frowny_hen_error, frowny_cha_error, frowny_tem_error])\n",
    "rate_ratio = rate_smiley_list/(rate_smiley_list+rate_frowny_list)\n",
    "error_ratio = np.sqrt(error_smiley_list**2+(error_smiley_list+error_frowny_list)**2\n",
    "#rate_ratio = [rate_smiley_list[i]/float(rate_smiley_list[i] + rate_frowny_list[i]) for i in range(len(rate_smiley_list))]"
   ]
  },
  {
   "cell_type": "code",
   "execution_count": 208,
   "metadata": {
    "collapsed": false,
    "scrolled": true
   },
   "outputs": [
    {
     "data": {
      "text/plain": [
       "([<matplotlib.axis.XTick at 0x15a3c6050>,\n",
       "  <matplotlib.axis.XTick at 0x10b985650>,\n",
       "  <matplotlib.axis.XTick at 0x10bab81d0>,\n",
       "  <matplotlib.axis.XTick at 0x15a3a5210>],\n",
       " <a list of 4 Text xticklabel objects>)"
      ]
     },
     "execution_count": 208,
     "metadata": {},
     "output_type": "execute_result"
    },
    {
     "data": {
      "image/png": "[encoded data removed]",
      "text/plain": [
       "<matplotlib.figure.Figure at 0x15bb0d650>"
      ]
     },
     "metadata": {},
     "output_type": "display_data"
    }
   ],
   "source": [
    "#Comparing happiness \n",
    "import pylab\n",
    "LABELS = ['Madison', 'Henderson', 'Charlotte', 'Tempe']\n",
    "\n",
    "pylab.bar(city_list, rate_smiley_list, align='center', yerr=error_smiley_list, color='y')\n",
    "pylab.xticks(city_list, LABELS)\n"
   ]
  },
  {
   "cell_type": "code",
   "execution_count": 209,
   "metadata": {
    "collapsed": false
   },
   "outputs": [
    {
     "data": {
      "text/plain": [
       "([<matplotlib.axis.XTick at 0x161395b90>,\n",
       "  <matplotlib.axis.XTick at 0x161452990>,\n",
       "  <matplotlib.axis.XTick at 0x15a43c790>,\n",
       "  <matplotlib.axis.XTick at 0x15a3acc10>],\n",
       " <a list of 4 Text xticklabel objects>)"
      ]
     },
     "execution_count": 209,
     "metadata": {},
     "output_type": "execute_result"
    },
    {
     "data": {
      "image/png": "[encoded data removed]",
      "text/plain": [
       "<matplotlib.figure.Figure at 0x1617c8f50>"
      ]
     },
     "metadata": {},
     "output_type": "display_data"
    }
   ],
   "source": [
    "pylab.bar(city_list, rate_frowny_list, align='center', yerr=error_frowny_list, color='y')\n",
    "pylab.xticks(city_list, LABELS)\n"
   ]
  },
  {
   "cell_type": "code",
   "execution_count": 210,
   "metadata": {
    "collapsed": false
   },
   "outputs": [
    {
     "data": {
      "text/plain": [
       "([<matplotlib.axis.XTick at 0x10b8b20d0>,\n",
       "  <matplotlib.axis.XTick at 0x1618a9090>,\n",
       "  <matplotlib.axis.XTick at 0x14981ed90>,\n",
       "  <matplotlib.axis.XTick at 0x1496ba210>],\n",
       " <a list of 4 Text xticklabel objects>)"
      ]
     },
     "execution_count": 210,
     "metadata": {},
     "output_type": "execute_result"
    },
    {
     "data": {
      "image/png": "[encoded data removed]",
      "text/plain": [
       "<matplotlib.figure.Figure at 0x15a44c610>"
      ]
     },
     "metadata": {},
     "output_type": "display_data"
    }
   ],
   "source": [
    "pylab.bar(city_list, rate_ratio, align='center', yerr=error_ratio, color='y')\n",
    "pylab.xticks(city_list, LABELS)\n"
   ]
  },
  {
   "cell_type": "code",
   "execution_count": 218,
   "metadata": {
    "collapsed": false
   },
   "outputs": [],
   "source": [
    "# next step is to try classifying the text part of the reviews as positive or negative\n",
    "from urllib2 import Request, urlopen, URLError\n",
    "import json\n",
    "def emotion_analyzer(text):\n",
    "    request = Request('http://text-processing.com/api/sentiment/')\n",
    "\n",
    "    try:\n",
    "        response = urlopen(request, 'text=\"' + text[0:79995] + '\"')\n",
    "        scores = response.read()\n",
    "        resp_dict = json.loads(scores)\n",
    "        return resp_dict['probability']['pos']\n",
    "    except URLError, e:\n",
    "        print 'No kittez. Got an error code:', e\n",
    "        \n",
    "    "
   ]
  },
  {
   "cell_type": "code",
   "execution_count": 253,
   "metadata": {
    "collapsed": false
   },
   "outputs": [
    {
     "name": "stdout",
     "output_type": "stream",
     "text": [
      "No kittez. Got an error code: HTTP Error 503: SERVICE UNAVAILABLE\n",
      "No kittez. Got an error code: HTTP Error 503: SERVICE UNAVAILABLE\n",
      "No kittez. Got an error code: HTTP Error 503: SERVICE UNAVAILABLE\n",
      "No kittez. Got an error code: HTTP Error 503: SERVICE UNAVAILABLE\n",
      "No kittez. Got an error code: HTTP Error 503: SERVICE UNAVAILABLE\n",
      "No kittez. Got an error code: HTTP Error 503: SERVICE UNAVAILABLE\n",
      "No kittez. Got an error code: HTTP Error 503: SERVICE UNAVAILABLE\n",
      "No kittez. Got an error code: HTTP Error 503: SERVICE UNAVAILABLE\n",
      "No kittez. Got an error code: HTTP Error 503: SERVICE UNAVAILABLE\n",
      "No kittez. Got an error code: HTTP Error 503: SERVICE UNAVAILABLE\n",
      "No kittez. Got an error code: HTTP Error 503: SERVICE UNAVAILABLE\n",
      "No kittez. Got an error code: HTTP Error 503: SERVICE UNAVAILABLE\n",
      "No kittez. Got an error code: HTTP Error 503: SERVICE UNAVAILABLE\n",
      "No kittez. Got an error code: HTTP Error 503: SERVICE UNAVAILABLE\n",
      "No kittez. Got an error code: HTTP Error 503: SERVICE UNAVAILABLE\n",
      "No kittez. Got an error code: HTTP Error 503: SERVICE UNAVAILABLE\n",
      "No kittez. Got an error code: HTTP Error 503: SERVICE UNAVAILABLE\n",
      "No kittez. Got an error code: HTTP Error 503: SERVICE UNAVAILABLE\n",
      "No kittez. Got an error code: HTTP Error 503: SERVICE UNAVAILABLE\n",
      "No kittez. Got an error code: HTTP Error 503: SERVICE UNAVAILABLE\n",
      "No kittez. Got an error code: HTTP Error 503: SERVICE UNAVAILABLE\n",
      "No kittez. Got an error code: HTTP Error 503: SERVICE UNAVAILABLE\n",
      "No kittez. Got an error code: HTTP Error 503: SERVICE UNAVAILABLE\n",
      "No kittez. Got an error code: HTTP Error 503: SERVICE UNAVAILABLE\n",
      "No kittez. Got an error code: HTTP Error 503: SERVICE UNAVAILABLE\n"
     ]
    },
    {
     "ename": "KeyboardInterrupt",
     "evalue": "",
     "output_type": "error",
     "traceback": [
      "\u001b[0;31m---------------------------------------------------------------------------\u001b[0m",
      "\u001b[0;31mKeyboardInterrupt\u001b[0m                         Traceback (most recent call last)",
      "\u001b[0;32m<ipython-input-253-adf28aba9562>\u001b[0m in \u001b[0;36m<module>\u001b[0;34m()\u001b[0m\n\u001b[1;32m      2\u001b[0m \u001b[0;31m#sentiment_arr_hen = np.array([emotion_analyzer(text) for text in text_review_hen[0:500]])\u001b[0m\u001b[0;34m\u001b[0m\u001b[0;34m\u001b[0m\u001b[0m\n\u001b[1;32m      3\u001b[0m \u001b[0;31m#sentiment_arr_cha = np.array([emotion_analyzer(text) for text in text_review_cha[0:500]])\u001b[0m\u001b[0;34m\u001b[0m\u001b[0;34m\u001b[0m\u001b[0m\n\u001b[0;32m----> 4\u001b[0;31m \u001b[0msentiment_arr_tem\u001b[0m \u001b[0;34m=\u001b[0m \u001b[0mnp\u001b[0m\u001b[0;34m.\u001b[0m\u001b[0marray\u001b[0m\u001b[0;34m(\u001b[0m\u001b[0;34m[\u001b[0m\u001b[0memotion_analyzer\u001b[0m\u001b[0;34m(\u001b[0m\u001b[0mtext\u001b[0m\u001b[0;34m)\u001b[0m \u001b[0;32mfor\u001b[0m \u001b[0mtext\u001b[0m \u001b[0;32min\u001b[0m \u001b[0mtext_review_tem\u001b[0m\u001b[0;34m[\u001b[0m\u001b[0;36m0\u001b[0m\u001b[0;34m:\u001b[0m\u001b[0;36m500\u001b[0m\u001b[0;34m]\u001b[0m\u001b[0;34m]\u001b[0m\u001b[0;34m)\u001b[0m\u001b[0;34m\u001b[0m\u001b[0m\n\u001b[0m",
      "\u001b[0;32m<ipython-input-218-dc41492c08a1>\u001b[0m in \u001b[0;36memotion_analyzer\u001b[0;34m(text)\u001b[0m\n\u001b[1;32m      6\u001b[0m \u001b[0;34m\u001b[0m\u001b[0m\n\u001b[1;32m      7\u001b[0m     \u001b[0;32mtry\u001b[0m\u001b[0;34m:\u001b[0m\u001b[0;34m\u001b[0m\u001b[0m\n\u001b[0;32m----> 8\u001b[0;31m         \u001b[0mresponse\u001b[0m \u001b[0;34m=\u001b[0m \u001b[0murlopen\u001b[0m\u001b[0;34m(\u001b[0m\u001b[0mrequest\u001b[0m\u001b[0;34m,\u001b[0m \u001b[0;34m'text=\"'\u001b[0m \u001b[0;34m+\u001b[0m \u001b[0mtext\u001b[0m\u001b[0;34m[\u001b[0m\u001b[0;36m0\u001b[0m\u001b[0;34m:\u001b[0m\u001b[0;36m79995\u001b[0m\u001b[0;34m]\u001b[0m \u001b[0;34m+\u001b[0m \u001b[0;34m'\"'\u001b[0m\u001b[0;34m)\u001b[0m\u001b[0;34m\u001b[0m\u001b[0m\n\u001b[0m\u001b[1;32m      9\u001b[0m         \u001b[0mscores\u001b[0m \u001b[0;34m=\u001b[0m \u001b[0mresponse\u001b[0m\u001b[0;34m.\u001b[0m\u001b[0mread\u001b[0m\u001b[0;34m(\u001b[0m\u001b[0;34m)\u001b[0m\u001b[0;34m\u001b[0m\u001b[0m\n\u001b[1;32m     10\u001b[0m         \u001b[0mresp_dict\u001b[0m \u001b[0;34m=\u001b[0m \u001b[0mjson\u001b[0m\u001b[0;34m.\u001b[0m\u001b[0mloads\u001b[0m\u001b[0;34m(\u001b[0m\u001b[0mscores\u001b[0m\u001b[0;34m)\u001b[0m\u001b[0;34m\u001b[0m\u001b[0m\n",
      "\u001b[0;32m/Users/wathid/anaconda/lib/python2.7/urllib2.pyc\u001b[0m in \u001b[0;36murlopen\u001b[0;34m(url, data, timeout, cafile, capath, cadefault, context)\u001b[0m\n\u001b[1;32m    152\u001b[0m     \u001b[0;32melse\u001b[0m\u001b[0;34m:\u001b[0m\u001b[0;34m\u001b[0m\u001b[0m\n\u001b[1;32m    153\u001b[0m         \u001b[0mopener\u001b[0m \u001b[0;34m=\u001b[0m \u001b[0m_opener\u001b[0m\u001b[0;34m\u001b[0m\u001b[0m\n\u001b[0;32m--> 154\u001b[0;31m     \u001b[0;32mreturn\u001b[0m \u001b[0mopener\u001b[0m\u001b[0;34m.\u001b[0m\u001b[0mopen\u001b[0m\u001b[0;34m(\u001b[0m\u001b[0murl\u001b[0m\u001b[0;34m,\u001b[0m \u001b[0mdata\u001b[0m\u001b[0;34m,\u001b[0m \u001b[0mtimeout\u001b[0m\u001b[0;34m)\u001b[0m\u001b[0;34m\u001b[0m\u001b[0m\n\u001b[0m\u001b[1;32m    155\u001b[0m \u001b[0;34m\u001b[0m\u001b[0m\n\u001b[1;32m    156\u001b[0m \u001b[0;32mdef\u001b[0m \u001b[0minstall_opener\u001b[0m\u001b[0;34m(\u001b[0m\u001b[0mopener\u001b[0m\u001b[0;34m)\u001b[0m\u001b[0;34m:\u001b[0m\u001b[0;34m\u001b[0m\u001b[0m\n",
      "\u001b[0;32m/Users/wathid/anaconda/lib/python2.7/urllib2.pyc\u001b[0m in \u001b[0;36mopen\u001b[0;34m(self, fullurl, data, timeout)\u001b[0m\n\u001b[1;32m    429\u001b[0m             \u001b[0mreq\u001b[0m \u001b[0;34m=\u001b[0m \u001b[0mmeth\u001b[0m\u001b[0;34m(\u001b[0m\u001b[0mreq\u001b[0m\u001b[0;34m)\u001b[0m\u001b[0;34m\u001b[0m\u001b[0m\n\u001b[1;32m    430\u001b[0m \u001b[0;34m\u001b[0m\u001b[0m\n\u001b[0;32m--> 431\u001b[0;31m         \u001b[0mresponse\u001b[0m \u001b[0;34m=\u001b[0m \u001b[0mself\u001b[0m\u001b[0;34m.\u001b[0m\u001b[0m_open\u001b[0m\u001b[0;34m(\u001b[0m\u001b[0mreq\u001b[0m\u001b[0;34m,\u001b[0m \u001b[0mdata\u001b[0m\u001b[0;34m)\u001b[0m\u001b[0;34m\u001b[0m\u001b[0m\n\u001b[0m\u001b[1;32m    432\u001b[0m \u001b[0;34m\u001b[0m\u001b[0m\n\u001b[1;32m    433\u001b[0m         \u001b[0;31m# post-process response\u001b[0m\u001b[0;34m\u001b[0m\u001b[0;34m\u001b[0m\u001b[0m\n",
      "\u001b[0;32m/Users/wathid/anaconda/lib/python2.7/urllib2.pyc\u001b[0m in \u001b[0;36m_open\u001b[0;34m(self, req, data)\u001b[0m\n\u001b[1;32m    447\u001b[0m         \u001b[0mprotocol\u001b[0m \u001b[0;34m=\u001b[0m \u001b[0mreq\u001b[0m\u001b[0;34m.\u001b[0m\u001b[0mget_type\u001b[0m\u001b[0;34m(\u001b[0m\u001b[0;34m)\u001b[0m\u001b[0;34m\u001b[0m\u001b[0m\n\u001b[1;32m    448\u001b[0m         result = self._call_chain(self.handle_open, protocol, protocol +\n\u001b[0;32m--> 449\u001b[0;31m                                   '_open', req)\n\u001b[0m\u001b[1;32m    450\u001b[0m         \u001b[0;32mif\u001b[0m \u001b[0mresult\u001b[0m\u001b[0;34m:\u001b[0m\u001b[0;34m\u001b[0m\u001b[0m\n\u001b[1;32m    451\u001b[0m             \u001b[0;32mreturn\u001b[0m \u001b[0mresult\u001b[0m\u001b[0;34m\u001b[0m\u001b[0m\n",
      "\u001b[0;32m/Users/wathid/anaconda/lib/python2.7/urllib2.pyc\u001b[0m in \u001b[0;36m_call_chain\u001b[0;34m(self, chain, kind, meth_name, *args)\u001b[0m\n\u001b[1;32m    407\u001b[0m             \u001b[0mfunc\u001b[0m \u001b[0;34m=\u001b[0m \u001b[0mgetattr\u001b[0m\u001b[0;34m(\u001b[0m\u001b[0mhandler\u001b[0m\u001b[0;34m,\u001b[0m \u001b[0mmeth_name\u001b[0m\u001b[0;34m)\u001b[0m\u001b[0;34m\u001b[0m\u001b[0m\n\u001b[1;32m    408\u001b[0m \u001b[0;34m\u001b[0m\u001b[0m\n\u001b[0;32m--> 409\u001b[0;31m             \u001b[0mresult\u001b[0m \u001b[0;34m=\u001b[0m \u001b[0mfunc\u001b[0m\u001b[0;34m(\u001b[0m\u001b[0;34m*\u001b[0m\u001b[0margs\u001b[0m\u001b[0;34m)\u001b[0m\u001b[0;34m\u001b[0m\u001b[0m\n\u001b[0m\u001b[1;32m    410\u001b[0m             \u001b[0;32mif\u001b[0m \u001b[0mresult\u001b[0m \u001b[0;32mis\u001b[0m \u001b[0;32mnot\u001b[0m \u001b[0mNone\u001b[0m\u001b[0;34m:\u001b[0m\u001b[0;34m\u001b[0m\u001b[0m\n\u001b[1;32m    411\u001b[0m                 \u001b[0;32mreturn\u001b[0m \u001b[0mresult\u001b[0m\u001b[0;34m\u001b[0m\u001b[0m\n",
      "\u001b[0;32m/Users/wathid/anaconda/lib/python2.7/urllib2.pyc\u001b[0m in \u001b[0;36mhttp_open\u001b[0;34m(self, req)\u001b[0m\n\u001b[1;32m   1225\u001b[0m \u001b[0;34m\u001b[0m\u001b[0m\n\u001b[1;32m   1226\u001b[0m     \u001b[0;32mdef\u001b[0m \u001b[0mhttp_open\u001b[0m\u001b[0;34m(\u001b[0m\u001b[0mself\u001b[0m\u001b[0;34m,\u001b[0m \u001b[0mreq\u001b[0m\u001b[0;34m)\u001b[0m\u001b[0;34m:\u001b[0m\u001b[0;34m\u001b[0m\u001b[0m\n\u001b[0;32m-> 1227\u001b[0;31m         \u001b[0;32mreturn\u001b[0m \u001b[0mself\u001b[0m\u001b[0;34m.\u001b[0m\u001b[0mdo_open\u001b[0m\u001b[0;34m(\u001b[0m\u001b[0mhttplib\u001b[0m\u001b[0;34m.\u001b[0m\u001b[0mHTTPConnection\u001b[0m\u001b[0;34m,\u001b[0m \u001b[0mreq\u001b[0m\u001b[0;34m)\u001b[0m\u001b[0;34m\u001b[0m\u001b[0m\n\u001b[0m\u001b[1;32m   1228\u001b[0m \u001b[0;34m\u001b[0m\u001b[0m\n\u001b[1;32m   1229\u001b[0m     \u001b[0mhttp_request\u001b[0m \u001b[0;34m=\u001b[0m \u001b[0mAbstractHTTPHandler\u001b[0m\u001b[0;34m.\u001b[0m\u001b[0mdo_request_\u001b[0m\u001b[0;34m\u001b[0m\u001b[0m\n",
      "\u001b[0;32m/Users/wathid/anaconda/lib/python2.7/urllib2.pyc\u001b[0m in \u001b[0;36mdo_open\u001b[0;34m(self, http_class, req, **http_conn_args)\u001b[0m\n\u001b[1;32m   1198\u001b[0m         \u001b[0;32melse\u001b[0m\u001b[0;34m:\u001b[0m\u001b[0;34m\u001b[0m\u001b[0m\n\u001b[1;32m   1199\u001b[0m             \u001b[0;32mtry\u001b[0m\u001b[0;34m:\u001b[0m\u001b[0;34m\u001b[0m\u001b[0m\n\u001b[0;32m-> 1200\u001b[0;31m                 \u001b[0mr\u001b[0m \u001b[0;34m=\u001b[0m \u001b[0mh\u001b[0m\u001b[0;34m.\u001b[0m\u001b[0mgetresponse\u001b[0m\u001b[0;34m(\u001b[0m\u001b[0mbuffering\u001b[0m\u001b[0;34m=\u001b[0m\u001b[0mTrue\u001b[0m\u001b[0;34m)\u001b[0m\u001b[0;34m\u001b[0m\u001b[0m\n\u001b[0m\u001b[1;32m   1201\u001b[0m             \u001b[0;32mexcept\u001b[0m \u001b[0mTypeError\u001b[0m\u001b[0;34m:\u001b[0m \u001b[0;31m# buffering kw not supported\u001b[0m\u001b[0;34m\u001b[0m\u001b[0m\n\u001b[1;32m   1202\u001b[0m                 \u001b[0mr\u001b[0m \u001b[0;34m=\u001b[0m \u001b[0mh\u001b[0m\u001b[0;34m.\u001b[0m\u001b[0mgetresponse\u001b[0m\u001b[0;34m(\u001b[0m\u001b[0;34m)\u001b[0m\u001b[0;34m\u001b[0m\u001b[0m\n",
      "\u001b[0;32m/Users/wathid/anaconda/lib/python2.7/httplib.pyc\u001b[0m in \u001b[0;36mgetresponse\u001b[0;34m(self, buffering)\u001b[0m\n\u001b[1;32m   1130\u001b[0m \u001b[0;34m\u001b[0m\u001b[0m\n\u001b[1;32m   1131\u001b[0m         \u001b[0;32mtry\u001b[0m\u001b[0;34m:\u001b[0m\u001b[0;34m\u001b[0m\u001b[0m\n\u001b[0;32m-> 1132\u001b[0;31m             \u001b[0mresponse\u001b[0m\u001b[0;34m.\u001b[0m\u001b[0mbegin\u001b[0m\u001b[0;34m(\u001b[0m\u001b[0;34m)\u001b[0m\u001b[0;34m\u001b[0m\u001b[0m\n\u001b[0m\u001b[1;32m   1133\u001b[0m             \u001b[0;32massert\u001b[0m \u001b[0mresponse\u001b[0m\u001b[0;34m.\u001b[0m\u001b[0mwill_close\u001b[0m \u001b[0;34m!=\u001b[0m \u001b[0m_UNKNOWN\u001b[0m\u001b[0;34m\u001b[0m\u001b[0m\n\u001b[1;32m   1134\u001b[0m             \u001b[0mself\u001b[0m\u001b[0;34m.\u001b[0m\u001b[0m__state\u001b[0m \u001b[0;34m=\u001b[0m \u001b[0m_CS_IDLE\u001b[0m\u001b[0;34m\u001b[0m\u001b[0m\n",
      "\u001b[0;32m/Users/wathid/anaconda/lib/python2.7/httplib.pyc\u001b[0m in \u001b[0;36mbegin\u001b[0;34m(self)\u001b[0m\n\u001b[1;32m    451\u001b[0m         \u001b[0;31m# read until we get a non-100 response\u001b[0m\u001b[0;34m\u001b[0m\u001b[0;34m\u001b[0m\u001b[0m\n\u001b[1;32m    452\u001b[0m         \u001b[0;32mwhile\u001b[0m \u001b[0mTrue\u001b[0m\u001b[0;34m:\u001b[0m\u001b[0;34m\u001b[0m\u001b[0m\n\u001b[0;32m--> 453\u001b[0;31m             \u001b[0mversion\u001b[0m\u001b[0;34m,\u001b[0m \u001b[0mstatus\u001b[0m\u001b[0;34m,\u001b[0m \u001b[0mreason\u001b[0m \u001b[0;34m=\u001b[0m \u001b[0mself\u001b[0m\u001b[0;34m.\u001b[0m\u001b[0m_read_status\u001b[0m\u001b[0;34m(\u001b[0m\u001b[0;34m)\u001b[0m\u001b[0;34m\u001b[0m\u001b[0m\n\u001b[0m\u001b[1;32m    454\u001b[0m             \u001b[0;32mif\u001b[0m \u001b[0mstatus\u001b[0m \u001b[0;34m!=\u001b[0m \u001b[0mCONTINUE\u001b[0m\u001b[0;34m:\u001b[0m\u001b[0;34m\u001b[0m\u001b[0m\n\u001b[1;32m    455\u001b[0m                 \u001b[0;32mbreak\u001b[0m\u001b[0;34m\u001b[0m\u001b[0m\n",
      "\u001b[0;32m/Users/wathid/anaconda/lib/python2.7/httplib.pyc\u001b[0m in \u001b[0;36m_read_status\u001b[0;34m(self)\u001b[0m\n\u001b[1;32m    407\u001b[0m     \u001b[0;32mdef\u001b[0m \u001b[0m_read_status\u001b[0m\u001b[0;34m(\u001b[0m\u001b[0mself\u001b[0m\u001b[0;34m)\u001b[0m\u001b[0;34m:\u001b[0m\u001b[0;34m\u001b[0m\u001b[0m\n\u001b[1;32m    408\u001b[0m         \u001b[0;31m# Initialize with Simple-Response defaults\u001b[0m\u001b[0;34m\u001b[0m\u001b[0;34m\u001b[0m\u001b[0m\n\u001b[0;32m--> 409\u001b[0;31m         \u001b[0mline\u001b[0m \u001b[0;34m=\u001b[0m \u001b[0mself\u001b[0m\u001b[0;34m.\u001b[0m\u001b[0mfp\u001b[0m\u001b[0;34m.\u001b[0m\u001b[0mreadline\u001b[0m\u001b[0;34m(\u001b[0m\u001b[0m_MAXLINE\u001b[0m \u001b[0;34m+\u001b[0m \u001b[0;36m1\u001b[0m\u001b[0;34m)\u001b[0m\u001b[0;34m\u001b[0m\u001b[0m\n\u001b[0m\u001b[1;32m    410\u001b[0m         \u001b[0;32mif\u001b[0m \u001b[0mlen\u001b[0m\u001b[0;34m(\u001b[0m\u001b[0mline\u001b[0m\u001b[0;34m)\u001b[0m \u001b[0;34m>\u001b[0m \u001b[0m_MAXLINE\u001b[0m\u001b[0;34m:\u001b[0m\u001b[0;34m\u001b[0m\u001b[0m\n\u001b[1;32m    411\u001b[0m             \u001b[0;32mraise\u001b[0m \u001b[0mLineTooLong\u001b[0m\u001b[0;34m(\u001b[0m\u001b[0;34m\"header line\"\u001b[0m\u001b[0;34m)\u001b[0m\u001b[0;34m\u001b[0m\u001b[0m\n",
      "\u001b[0;32m/Users/wathid/anaconda/lib/python2.7/socket.pyc\u001b[0m in \u001b[0;36mreadline\u001b[0;34m(self, size)\u001b[0m\n\u001b[1;32m    478\u001b[0m             \u001b[0;32mwhile\u001b[0m \u001b[0mTrue\u001b[0m\u001b[0;34m:\u001b[0m\u001b[0;34m\u001b[0m\u001b[0m\n\u001b[1;32m    479\u001b[0m                 \u001b[0;32mtry\u001b[0m\u001b[0;34m:\u001b[0m\u001b[0;34m\u001b[0m\u001b[0m\n\u001b[0;32m--> 480\u001b[0;31m                     \u001b[0mdata\u001b[0m \u001b[0;34m=\u001b[0m \u001b[0mself\u001b[0m\u001b[0;34m.\u001b[0m\u001b[0m_sock\u001b[0m\u001b[0;34m.\u001b[0m\u001b[0mrecv\u001b[0m\u001b[0;34m(\u001b[0m\u001b[0mself\u001b[0m\u001b[0;34m.\u001b[0m\u001b[0m_rbufsize\u001b[0m\u001b[0;34m)\u001b[0m\u001b[0;34m\u001b[0m\u001b[0m\n\u001b[0m\u001b[1;32m    481\u001b[0m                 \u001b[0;32mexcept\u001b[0m \u001b[0merror\u001b[0m\u001b[0;34m,\u001b[0m \u001b[0me\u001b[0m\u001b[0;34m:\u001b[0m\u001b[0;34m\u001b[0m\u001b[0m\n\u001b[1;32m    482\u001b[0m                     \u001b[0;32mif\u001b[0m \u001b[0me\u001b[0m\u001b[0;34m.\u001b[0m\u001b[0margs\u001b[0m\u001b[0;34m[\u001b[0m\u001b[0;36m0\u001b[0m\u001b[0;34m]\u001b[0m \u001b[0;34m==\u001b[0m \u001b[0mEINTR\u001b[0m\u001b[0;34m:\u001b[0m\u001b[0;34m\u001b[0m\u001b[0m\n",
      "\u001b[0;31mKeyboardInterrupt\u001b[0m: "
     ]
    }
   ],
   "source": [
    "#sentiment_arr_mad = np.array([emotion_analyzer(text) for text in text_review_mad[0:500]])\n",
    "#sentiment_arr_hen = np.array([emotion_analyzer(text) for text in text_review_hen[0:500]])\n",
    "#sentiment_arr_cha = np.array([emotion_analyzer(text) for text in text_review_cha[0:500]])\n",
    "sentiment_arr_tem = np.array([emotion_analyzer(text) for text in text_review_tem[0:500]])\n"
   ]
  },
  {
   "cell_type": "code",
   "execution_count": 228,
   "metadata": {
    "collapsed": false
   },
   "outputs": [
    {
     "data": {
      "text/plain": [
       "array([0.6450652817720608, 0.21536811207962137, 0.6202840064774997,\n",
       "       0.7095549195284949, 0.5698278093557959, 0.174985554519289,\n",
       "       0.16646754846754466, 0.6351639355745835, 0.11511926242960477,\n",
       "       0.4592488146486448, 0.15242301543416797, 0.5142737855791255,\n",
       "       0.18905399306365173, 0.40272222197314833, 0.6988813205857485,\n",
       "       0.7024402832882204, 0.21080400503969993, 0.17571637756318684,\n",
       "       0.3512617812096742, 0.2959713658156684, 0.4908203879491962,\n",
       "       0.41031998427013633, 0.8842859759644921, 0.39942392545965116,\n",
       "       0.3924833355343743, 0.7987421149465599, 0.19832245533500326,\n",
       "       0.5371256599849852, 0.18257383518520195, 0.358016698475076,\n",
       "       0.5819723449322293, 0.48793748360510314, 0.6719501518160578,\n",
       "       0.7428793635630657, 0.6091334610859824, 0.5267924429565768,\n",
       "       0.6384092275507695, 0.5848944393723622, 0.25423203631130126,\n",
       "       0.6227317069607654, 0.34305895567275263, 0.6016970071362889,\n",
       "       0.6483796934174337, 0.3029397134349609, 0.1082578416367409,\n",
       "       0.4576410877220731, 0.5671381754775772, 0.5747148645195371,\n",
       "       0.14757529772589667, 0.8810355861872109, 0.28973630425732877,\n",
       "       0.32744537916338917, 0.48620903529424364, 0.2957877914048176,\n",
       "       0.39366033880615675, 0.5656561545922423, 0.29672951405299564,\n",
       "       0.2129116105587284, 0.7119179301637628, 0.6327840434225276,\n",
       "       0.17420044803976895, 0.4984172466406516, 0.5727566091310522,\n",
       "       0.6593530387923068, 0.25894982724691784, 0.13732968144030078,\n",
       "       0.5813575612919392, 0.4036228644224801, 0.2956054725934722,\n",
       "       0.6091287117208333, 0.302250660299923, 0.3946383210340564,\n",
       "       0.9023136029898049, 0.30332884164317064, 0.42471016610111556,\n",
       "       0.8351958580766239, 0.3494224395369469, 0.5699098550650286,\n",
       "       0.43050637119506463, 0.5291282786244371, 0.625954677988068,\n",
       "       0.5028230591443922, 0.5134764050962219, 0.5513346770919316,\n",
       "       0.5741099661383413, 0.5038560779994234, 0.7697771704612308,\n",
       "       0.8742315221832733, 0.3098184927283557, 0.9075366958370814,\n",
       "       0.591053570496614, 0.12216458792678214, 0.33541349335772286,\n",
       "       0.4076248271324101, 0.19052576654587894, 0.426640455942269,\n",
       "       0.5795941633704963, 0.22939251763184942, 0.10587925364145975,\n",
       "       0.203171221366163, 0.1251786987147186, 0.11745902067477043,\n",
       "       0.6433205034757824, 0.21923892592105, 0.5119938563623253,\n",
       "       0.7199007833857025, 0.8743918017071577, 0.315180404888185,\n",
       "       0.5986589870732449, 0.5221458185171202, 0.25468850162120255,\n",
       "       0.6086791077264627, 0.39599921174094943, 0.5081026009294743,\n",
       "       0.46306398863315656, 0.27499919109621407, 0.17152510097160148,\n",
       "       0.7448137147676615, 0.7850559145365312, 0.5031269728461392,\n",
       "       0.6517979437774983, 0.5756142129815923, 0.27820116717661336,\n",
       "       0.634675630731417, 0.14564290724359574, 0.5784268940222524,\n",
       "       0.2690174489631567, 0.4209520765283237, 0.4282801656519379,\n",
       "       0.46881368681365065, 0.15948849406989155, 0.5252774216107562,\n",
       "       0.6318972266637075, 0.6419632214374589, 0.6959771515929472,\n",
       "       0.39027705171433125, 0.5223251475113038, 0.8055440697791838,\n",
       "       0.6692122813100555, 0.3471952061643033, 0.20901519915888334,\n",
       "       0.64527600952261, 0.18352390417055525, 0.8771675889765984,\n",
       "       0.7082914781507755, 0.680304826229708, 0.4754851980037347,\n",
       "       0.32927666625231555, 0.8782620625481081, 0.9467415320002697,\n",
       "       0.9143219961321054, 0.5211650963050332, 0.6984460730634829,\n",
       "       0.8873980507627538, 0.8291694573527797, 0.901357866100686,\n",
       "       0.4006488118170521, 0.5082635309503883, 0.7271637357472576,\n",
       "       0.504867214698045, 0.3741433263171817, 0.5414442498013039,\n",
       "       0.6427257736957439, 0.47598981673346497, 0.17194888886901488,\n",
       "       0.8768295631552143, 0.33931829113062206, 0.9022574312514945,\n",
       "       0.5544059616462748, 0.6974695892228051, 0.5113533261080746,\n",
       "       0.584431189452506, 0.43067843496972336, 0.9033841538670503,\n",
       "       0.5422351995401073, 0.6689215630615437, 0.8580674656696257,\n",
       "       0.2030693896702912, 0.6655565364792919, 0.9059051945142734,\n",
       "       0.5704583262659418, 0.534284453632337, 0.32736627263941254,\n",
       "       0.24696322622876654, 0.6768118791162431, 0.7771747483474807,\n",
       "       0.8122488494077458, 0.8534473063394928, 0.7498928480490035,\n",
       "       0.8889903551637768, 0.5175899894075784, 0.8240462553307003,\n",
       "       0.747307880232289, 0.8660768960958809, 0.7940682597118823,\n",
       "       0.8218690625792705, 0.34117304164337, 0.6261631492850827,\n",
       "       0.8382081170702813, 0.7674374084558702, 0.853795119700033,\n",
       "       0.7123056530833188, 0.6436888881982963, 0.22686631205954066,\n",
       "       0.7728993284682425, 0.4383194215965403, 0.7790504417230557,\n",
       "       0.886298628953206, 0.762660033486813, 0.717379601028887,\n",
       "       0.6623287080426485, 0.9113023958646785, 0.84680686989939,\n",
       "       0.5342999234296196, 0.533280453802686, 0.5549088885467963,\n",
       "       0.7726790832838397, 0.842981437817437, 0.638164157837483,\n",
       "       0.38987636668755754, 0.8653582497785002, 0.7872357841125095,\n",
       "       0.8030071360826461, 0.814988580703502, 0.7639628969479656,\n",
       "       0.5618042795156623, 0.8850187257059475, 0.6501971425330686,\n",
       "       0.2837377486734411, 0.6875047688596104, 0.5493311266501871,\n",
       "       0.7506976934940903, 0.8008483061769712, 0.3843048969694733,\n",
       "       0.8172005457995745, 0.45901934117180004, 0.8002777945195045,\n",
       "       0.8648084214736675, 0.6632073874473166, 0.7171073845607135,\n",
       "       0.49320630652082875, 0.7941205838892267, 0.5694227202772539,\n",
       "       0.6081686278136611, 0.9316356830868199, 0.7141192700443468,\n",
       "       0.23500604072016654, 0.5589887532835898, 0.5255919995225886,\n",
       "       0.7505162609553251, 0.45037135573099635, 0.8804743519297051,\n",
       "       0.8772435936218108, 0.8217543332342603, 0.4038314212981947,\n",
       "       0.4848472835692571, 0.7458109469948916, 0.2961264472425925,\n",
       "       0.6724545309281492, 0.5879935936513045, 0.525808690356545,\n",
       "       0.5549036264378928, 0.7936584390347947, 0.2920717876007711,\n",
       "       0.6013525045109682, 0.8663622132616068, 0.6037884866226955,\n",
       "       0.6673684617712665, 0.8901136797244353, 0.5981818506813998,\n",
       "       0.8907520583737738, 0.7363984313333396, 0.6682781166836578,\n",
       "       0.37140405092722395, 0.8138903669945383, 0.5722921940685852,\n",
       "       0.6111441786733356, 0.5799557433087281, 0.4235110142991194,\n",
       "       0.858745418385299, 0.60747904166824, 0.8071885087925803,\n",
       "       0.7956511857468024, 0.7437394926124765, 0.7139737450195834,\n",
       "       0.7802515315231838, 0.7883877779485586, 0.2192754921181335,\n",
       "       0.5295553264891084, 0.5629870650675616, 0.9096338624871148,\n",
       "       0.6041941403428057, 0.7697695452744915, 0.8788405064994607,\n",
       "       0.749221162494962, 0.7573969556675995, 0.7001296902460918,\n",
       "       0.8324026218343674, 0.395417145300612, 0.5783257166422952,\n",
       "       0.7464918621348489, 0.8449163654290176, 0.4317962983591026,\n",
       "       0.8860754486419835, 0.7397080859839225, 0.21540130060399743,\n",
       "       0.6834930898459661, 0.6257065780721965, 0.7648557055023859,\n",
       "       0.5440795987525335, 0.6277088491480637, 0.6698863457233317,\n",
       "       0.5509137758384091, 0.5852808166414252, 0.727602892807901,\n",
       "       0.5816871884809612, 0.7083586309803533, 0.2773329793386794,\n",
       "       0.7165344771563602, 0.6016594435601682, 0.9003194165080793,\n",
       "       0.502446472598854, 0.652748343794317, 0.5804460456128429,\n",
       "       0.370819094011691, 0.4640799468687653, 0.8389315040233808,\n",
       "       0.6465030804550755, 0.7008630409088066, 0.703058562297365,\n",
       "       0.6670306611013197, 0.9077912986572293, 0.7160535979187165,\n",
       "       0.40877204722127525, 0.5072190209134451, 0.8694288529274392,\n",
       "       0.5320550843636583, 0.8228657730452678, 0.918927174445921,\n",
       "       0.7250682557051193, 0.5985883972670417, 0.6838760927604731,\n",
       "       0.7697777345326788, 0.8401289792140918, 0.5740185530747255,\n",
       "       0.5701820551092585, None, None, None, None, None, None, None, None,\n",
       "       None, None, None, None, None, None, None, None, None, None, None,\n",
       "       None, None, None, None, None, None, None, None, None, None, None,\n",
       "       None, None, None, None, None, None, None, None, None, None, None,\n",
       "       None, None, None, None, None, None, None, None, None, None, None,\n",
       "       None, None, None, None, None, None, None, None, None, None, None,\n",
       "       None, None, None, None, None, None, None, None, None, None, None,\n",
       "       None, None, None, None, None, None, None, None, None, None, None,\n",
       "       None, None, None, None, None, None, None, None, None, None, None,\n",
       "       None, None, None, None, None, None, None, None, None, None, None,\n",
       "       None, None, None, None, None, None, None, None, None, None, None,\n",
       "       None, None, None, None, None, None, None, None, None, None, None,\n",
       "       None, None, None, None, None, None, None, None, None, None, None,\n",
       "       None, None, None, None, None, None, None, None, None, None, None,\n",
       "       None, None, None], dtype=object)"
      ]
     },
     "execution_count": 228,
     "metadata": {},
     "output_type": "execute_result"
    }
   ],
   "source": [
    "sentiment_arr_cha"
   ]
  },
  {
   "cell_type": "code",
   "execution_count": 236,
   "metadata": {
    "collapsed": false
   },
   "outputs": [
    {
     "data": {
      "text/plain": [
       "(array([ 63.,  61.,  48.,  45.,  63.,  61.,  55.,  45.,  26.,  33.]),\n",
       " array([ 0.09343117,  0.17419974,  0.25496831,  0.33573688,  0.41650545,\n",
       "         0.49727401,  0.57804258,  0.65881115,  0.73957972,  0.82034829,\n",
       "         0.90111686]),\n",
       " <a list of 10 Patch objects>)"
      ]
     },
     "execution_count": 236,
     "metadata": {},
     "output_type": "execute_result"
    },
    {
     "data": {
      "image/png": "[encoded data removed]",
      "text/plain": [
       "<matplotlib.figure.Figure at 0x161e17390>"
      ]
     },
     "metadata": {},
     "output_type": "display_data"
    }
   ],
   "source": [
    "#positivity probability\n",
    "pylab.hist(sentiment_arr_mad)\n"
   ]
  },
  {
   "cell_type": "code",
   "execution_count": 233,
   "metadata": {
    "collapsed": false
   },
   "outputs": [
    {
     "data": {
      "text/plain": [
       "(array([ 30.,  74.,  47.,  64.,  72.,  60.,  55.,  46.,  33.,  19.]),\n",
       " array([ 0.06332407,  0.15255351,  0.24178294,  0.33101238,  0.42024182,\n",
       "         0.50947126,  0.5987007 ,  0.68793014,  0.77715957,  0.86638901,\n",
       "         0.95561845]),\n",
       " <a list of 10 Patch objects>)"
      ]
     },
     "execution_count": 233,
     "metadata": {},
     "output_type": "execute_result"
    },
    {
     "data": {
      "image/png": "[encoded data removed]",
      "text/plain": [
       "<matplotlib.figure.Figure at 0x161d3cf90>"
      ]
     },
     "metadata": {},
     "output_type": "display_data"
    }
   ],
   "source": [
    "pylab.hist(sentiment_arr_hen)\n",
    "#This shows that the data is not normally distributed. It looks somewhat bimodal.\n"
   ]
  },
  {
   "cell_type": "code",
   "execution_count": 238,
   "metadata": {
    "collapsed": false
   },
   "outputs": [
    {
     "data": {
      "text/plain": [
       "([<matplotlib.axis.XTick at 0x16236f150>,\n",
       "  <matplotlib.axis.XTick at 0x162361f90>,\n",
       "  <matplotlib.axis.XTick at 0x16231e610>],\n",
       " <a list of 3 Text xticklabel objects>)"
      ]
     },
     "execution_count": 238,
     "metadata": {},
     "output_type": "execute_result"
    },
    {
     "data": {
      "image/png": "[encoded data removed]",
      "text/plain": [
       "<matplotlib.figure.Figure at 0x16236f590>"
      ]
     },
     "metadata": {},
     "output_type": "display_data"
    }
   ],
   "source": [
    "\n",
    "pos_mad = np.median(sentiment_arr_mad)\n",
    "pos_hen = np.median(sentiment_arr_hen)\n",
    "pos_cha = np.median(sentiment_arr_cha)\n",
    "\n",
    "\n",
    "pylab.bar([1,2,3], [pos_mad, pos_hen, pos_cha], align='center', color='g')\n",
    "pylab.xticks([1,2,3], ['Madison', 'Henderson', 'Charlotte'])"
   ]
  },
  {
   "cell_type": "code",
   "execution_count": 251,
   "metadata": {
    "collapsed": false
   },
   "outputs": [],
   "source": [
    "#how do these compare to stars?\n",
    "star_mad, star_mad_error = summary_stat(np.array(review_mad['stars_x']))\n",
    "star_cha, star_cha_error = summary_stat(np.array(review_cha['stars_x']))\n",
    "star_tem, star_tem_error = summary_stat(np.array(review_tem['stars_x']))\n",
    "star_hen, star_hen_error = summary_stat(np.array(review_hen['stars_x']))\n"
   ]
  },
  {
   "cell_type": "code",
   "execution_count": 252,
   "metadata": {
    "collapsed": false
   },
   "outputs": [
    {
     "data": {
      "text/plain": [
       "([<matplotlib.axis.XTick at 0x162442ed0>,\n",
       "  <matplotlib.axis.XTick at 0x1620f5350>,\n",
       "  <matplotlib.axis.XTick at 0x1625619d0>,\n",
       "  <matplotlib.axis.XTick at 0x1627e0e50>],\n",
       " <a list of 4 Text xticklabel objects>)"
      ]
     },
     "execution_count": 252,
     "metadata": {},
     "output_type": "execute_result"
    },
    {
     "data": {
      "image/png": "[encoded data removed]",
      "text/plain": [
       "<matplotlib.figure.Figure at 0x162402590>"
      ]
     },
     "metadata": {},
     "output_type": "display_data"
    }
   ],
   "source": [
    "#LABELS = ['Madison', 'Henderson', 'Charlotte', 'Tempe']\n",
    "pylab.bar(city_list, [star_mad, star_hen, star_cha, star_tem], align='center', yerr=[star_mad_error, star_hen_error, star_cha_error, star_tem_error], color='y')\n",
    "pylab.xticks(city_list, LABELS)"
   ]
  },
  {
   "cell_type": "code",
   "execution_count": null,
   "metadata": {
    "collapsed": true
   },
   "outputs": [],
   "source": []
  }
 ],
 "metadata": {
  "kernelspec": {
   "display_name": "Python 2",
   "language": "python",
   "name": "python2"
  },
  "language_info": {
   "codemirror_mode": {
    "name": "ipython",
    "version": 2
   },
   "file_extension": ".py",
   "mimetype": "text/x-python",
   "name": "python",
   "nbconvert_exporter": "python",
   "pygments_lexer": "ipython2",
   "version": "2.7.10"
  }
 },
 "nbformat": 4,
 "nbformat_minor": 0
}
